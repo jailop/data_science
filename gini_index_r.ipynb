{
 "cells": [
  {
   "cell_type": "markdown",
   "metadata": {},
   "source": [
    "# Gini index\n",
    "\n",
    "By Jaime Lopez  \n",
    "Mar. 10, 2019 (Updated: Apr. 20, 2019)\n",
    "\n",
    "## Theory\n",
    "\n",
    "The Gini index is typically used for categorical attributes to measure their discriminative power.\n",
    "\n",
    "Let $v_1, v_2, \\dots, v_r$ be the $r$ possible values of a particular categorical attribute. Let $p_j$ be the fraction of data points containing attribute of value $v_i$ that belongs to the class $j \\in \\{1, 2, \\dots, k\\}$ for the attribute  $v_i$.\n",
    "\n",
    "The Gini index $G(v_i)$ is defined as follows:\n",
    "\n",
    "$$G(v_i) = 1 - \\sum_{j=1}^k p_j^2$$\n",
    "\n",
    "When the different classes are distributed evenly for a particular attribute value, the value of Gini index is $1 - 1/k$. If all data points for an attribute value $v_i$ belong to the same class, then the Gini index is 0. Lower values of the Gini index imply greater discrimination. In other words, higher values of the Gini index indicate more disorder, and lower values indicate more order in terms of the class labels.\n",
    "\n",
    "The value-specific Gini index is converted into an attributewise Gini index. Let $n_i$ be the number of data points that take on the value $v_i$ for an attribute. Then, for a dataset containing $\\sum_{i=1}^n n_i = n$ data points, the overall Gini index $G$ for the attribute is defined as the weighted average over the different attribute value as follows:\n",
    "\n",
    "$$G= \\frac{1}{n} \\sum_{i=1}^r n_i G(v_i)$$\n",
    "\n",
    "As an example, the [adult dataset](http://archive.ics.uci.edu/ml/datasets/Adult) from UCI Machine Learning Repository will be used.\n",
    "\n",
    "## Implementation\n",
    "\n",
    "First, the environment is configurated loading the library tidyverse."
   ]
  },
  {
   "cell_type": "code",
   "execution_count": 100,
   "metadata": {},
   "outputs": [],
   "source": [
    "library('tidyverse')\n",
    "library('rlang')"
   ]
  },
  {
   "cell_type": "code",
   "execution_count": 2,
   "metadata": {},
   "outputs": [
    {
     "name": "stderr",
     "output_type": "stream",
     "text": [
      "Parsed with column specification:\n",
      "cols(\n",
      "  age = \u001b[32mcol_double()\u001b[39m,\n",
      "  workclass = \u001b[31mcol_character()\u001b[39m,\n",
      "  fnlwgt = \u001b[32mcol_double()\u001b[39m,\n",
      "  education = \u001b[31mcol_character()\u001b[39m,\n",
      "  `education-num` = \u001b[32mcol_double()\u001b[39m,\n",
      "  `marital-status` = \u001b[31mcol_character()\u001b[39m,\n",
      "  occupation = \u001b[31mcol_character()\u001b[39m,\n",
      "  relationship = \u001b[31mcol_character()\u001b[39m,\n",
      "  race = \u001b[31mcol_character()\u001b[39m,\n",
      "  sex = \u001b[31mcol_character()\u001b[39m,\n",
      "  `capital-gain` = \u001b[32mcol_double()\u001b[39m,\n",
      "  `capital-loss` = \u001b[32mcol_double()\u001b[39m,\n",
      "  `hours-per-week` = \u001b[32mcol_double()\u001b[39m,\n",
      "  `native-country` = \u001b[31mcol_character()\u001b[39m,\n",
      "  label = \u001b[31mcol_character()\u001b[39m\n",
      ")\n"
     ]
    }
   ],
   "source": [
    "data = read_csv('datasets/adult/adult.csv')"
   ]
  },
  {
   "cell_type": "code",
   "execution_count": 12,
   "metadata": {},
   "outputs": [
    {
     "data": {
      "text/html": [
       "<ol class=list-inline>\n",
       "\t<li>32561</li>\n",
       "\t<li>15</li>\n",
       "</ol>\n"
      ],
      "text/latex": [
       "\\begin{enumerate*}\n",
       "\\item 32561\n",
       "\\item 15\n",
       "\\end{enumerate*}\n"
      ],
      "text/markdown": [
       "1. 32561\n",
       "2. 15\n",
       "\n",
       "\n"
      ],
      "text/plain": [
       "[1] 32561    15"
      ]
     },
     "metadata": {},
     "output_type": "display_data"
    }
   ],
   "source": [
    "# Getting dimensions\n",
    "dim(data)"
   ]
  },
  {
   "cell_type": "markdown",
   "metadata": {},
   "source": [
    "In the previous lines, the `adult` dataset was loaded which has 15 features and 32,561 observations. It has been referenced by the `data` variable. "
   ]
  },
  {
   "cell_type": "code",
   "execution_count": 13,
   "metadata": {},
   "outputs": [
    {
     "data": {
      "text/html": [
       "<table>\n",
       "<caption>A tibble: 6 × 15</caption>\n",
       "<thead>\n",
       "\t<tr><th scope=col>age</th><th scope=col>workclass</th><th scope=col>fnlwgt</th><th scope=col>education</th><th scope=col>education-num</th><th scope=col>marital-status</th><th scope=col>occupation</th><th scope=col>relationship</th><th scope=col>race</th><th scope=col>sex</th><th scope=col>capital-gain</th><th scope=col>capital-loss</th><th scope=col>hours-per-week</th><th scope=col>native-country</th><th scope=col>label</th></tr>\n",
       "\t<tr><th scope=col>&lt;dbl&gt;</th><th scope=col>&lt;chr&gt;</th><th scope=col>&lt;dbl&gt;</th><th scope=col>&lt;chr&gt;</th><th scope=col>&lt;dbl&gt;</th><th scope=col>&lt;chr&gt;</th><th scope=col>&lt;chr&gt;</th><th scope=col>&lt;chr&gt;</th><th scope=col>&lt;chr&gt;</th><th scope=col>&lt;chr&gt;</th><th scope=col>&lt;dbl&gt;</th><th scope=col>&lt;dbl&gt;</th><th scope=col>&lt;dbl&gt;</th><th scope=col>&lt;chr&gt;</th><th scope=col>&lt;chr&gt;</th></tr>\n",
       "</thead>\n",
       "<tbody>\n",
       "\t<tr><td>39</td><td><span style=white-space:pre-wrap>State-gov       </span></td><td> 77516</td><td>Bachelors</td><td>13</td><td><span style=white-space:pre-wrap>Never-married     </span></td><td><span style=white-space:pre-wrap>Adm-clerical     </span></td><td>Not-in-family</td><td>White</td><td><span style=white-space:pre-wrap>Male  </span></td><td>2174</td><td>0</td><td>40</td><td>United-States</td><td>&lt;=50K</td></tr>\n",
       "\t<tr><td>50</td><td>Self-emp-not-inc</td><td> 83311</td><td>Bachelors</td><td>13</td><td>Married-civ-spouse</td><td><span style=white-space:pre-wrap>Exec-managerial  </span></td><td><span style=white-space:pre-wrap>Husband      </span></td><td>White</td><td><span style=white-space:pre-wrap>Male  </span></td><td><span style=white-space:pre-wrap>   0</span></td><td>0</td><td>13</td><td>United-States</td><td>&lt;=50K</td></tr>\n",
       "\t<tr><td>38</td><td><span style=white-space:pre-wrap>Private         </span></td><td>215646</td><td><span style=white-space:pre-wrap>HS-grad  </span></td><td> 9</td><td><span style=white-space:pre-wrap>Divorced          </span></td><td>Handlers-cleaners</td><td>Not-in-family</td><td>White</td><td><span style=white-space:pre-wrap>Male  </span></td><td><span style=white-space:pre-wrap>   0</span></td><td>0</td><td>40</td><td>United-States</td><td>&lt;=50K</td></tr>\n",
       "\t<tr><td>53</td><td><span style=white-space:pre-wrap>Private         </span></td><td>234721</td><td><span style=white-space:pre-wrap>11th     </span></td><td> 7</td><td>Married-civ-spouse</td><td>Handlers-cleaners</td><td><span style=white-space:pre-wrap>Husband      </span></td><td>Black</td><td><span style=white-space:pre-wrap>Male  </span></td><td><span style=white-space:pre-wrap>   0</span></td><td>0</td><td>40</td><td>United-States</td><td>&lt;=50K</td></tr>\n",
       "\t<tr><td>28</td><td><span style=white-space:pre-wrap>Private         </span></td><td>338409</td><td>Bachelors</td><td>13</td><td>Married-civ-spouse</td><td><span style=white-space:pre-wrap>Prof-specialty   </span></td><td><span style=white-space:pre-wrap>Wife         </span></td><td>Black</td><td>Female</td><td><span style=white-space:pre-wrap>   0</span></td><td>0</td><td>40</td><td><span style=white-space:pre-wrap>Cuba         </span></td><td>&lt;=50K</td></tr>\n",
       "\t<tr><td>37</td><td><span style=white-space:pre-wrap>Private         </span></td><td>284582</td><td><span style=white-space:pre-wrap>Masters  </span></td><td>14</td><td>Married-civ-spouse</td><td><span style=white-space:pre-wrap>Exec-managerial  </span></td><td><span style=white-space:pre-wrap>Wife         </span></td><td>White</td><td>Female</td><td><span style=white-space:pre-wrap>   0</span></td><td>0</td><td>40</td><td>United-States</td><td>&lt;=50K</td></tr>\n",
       "</tbody>\n",
       "</table>\n"
      ],
      "text/latex": [
       "A tibble: 6 × 15\n",
       "\\begin{tabular}{r|lllllllllllllll}\n",
       " age & workclass & fnlwgt & education & education-num & marital-status & occupation & relationship & race & sex & capital-gain & capital-loss & hours-per-week & native-country & label\\\\\n",
       " <dbl> & <chr> & <dbl> & <chr> & <dbl> & <chr> & <chr> & <chr> & <chr> & <chr> & <dbl> & <dbl> & <dbl> & <chr> & <chr>\\\\\n",
       "\\hline\n",
       "\t 39 & State-gov        &  77516 & Bachelors & 13 & Never-married      & Adm-clerical      & Not-in-family & White & Male   & 2174 & 0 & 40 & United-States & <=50K\\\\\n",
       "\t 50 & Self-emp-not-inc &  83311 & Bachelors & 13 & Married-civ-spouse & Exec-managerial   & Husband       & White & Male   &    0 & 0 & 13 & United-States & <=50K\\\\\n",
       "\t 38 & Private          & 215646 & HS-grad   &  9 & Divorced           & Handlers-cleaners & Not-in-family & White & Male   &    0 & 0 & 40 & United-States & <=50K\\\\\n",
       "\t 53 & Private          & 234721 & 11th      &  7 & Married-civ-spouse & Handlers-cleaners & Husband       & Black & Male   &    0 & 0 & 40 & United-States & <=50K\\\\\n",
       "\t 28 & Private          & 338409 & Bachelors & 13 & Married-civ-spouse & Prof-specialty    & Wife          & Black & Female &    0 & 0 & 40 & Cuba          & <=50K\\\\\n",
       "\t 37 & Private          & 284582 & Masters   & 14 & Married-civ-spouse & Exec-managerial   & Wife          & White & Female &    0 & 0 & 40 & United-States & <=50K\\\\\n",
       "\\end{tabular}\n"
      ],
      "text/markdown": [
       "\n",
       "A tibble: 6 × 15\n",
       "\n",
       "| age &lt;dbl&gt; | workclass &lt;chr&gt; | fnlwgt &lt;dbl&gt; | education &lt;chr&gt; | education-num &lt;dbl&gt; | marital-status &lt;chr&gt; | occupation &lt;chr&gt; | relationship &lt;chr&gt; | race &lt;chr&gt; | sex &lt;chr&gt; | capital-gain &lt;dbl&gt; | capital-loss &lt;dbl&gt; | hours-per-week &lt;dbl&gt; | native-country &lt;chr&gt; | label &lt;chr&gt; |\n",
       "|---|---|---|---|---|---|---|---|---|---|---|---|---|---|---|\n",
       "| 39 | State-gov        |  77516 | Bachelors | 13 | Never-married      | Adm-clerical      | Not-in-family | White | Male   | 2174 | 0 | 40 | United-States | &lt;=50K |\n",
       "| 50 | Self-emp-not-inc |  83311 | Bachelors | 13 | Married-civ-spouse | Exec-managerial   | Husband       | White | Male   |    0 | 0 | 13 | United-States | &lt;=50K |\n",
       "| 38 | Private          | 215646 | HS-grad   |  9 | Divorced           | Handlers-cleaners | Not-in-family | White | Male   |    0 | 0 | 40 | United-States | &lt;=50K |\n",
       "| 53 | Private          | 234721 | 11th      |  7 | Married-civ-spouse | Handlers-cleaners | Husband       | Black | Male   |    0 | 0 | 40 | United-States | &lt;=50K |\n",
       "| 28 | Private          | 338409 | Bachelors | 13 | Married-civ-spouse | Prof-specialty    | Wife          | Black | Female |    0 | 0 | 40 | Cuba          | &lt;=50K |\n",
       "| 37 | Private          | 284582 | Masters   | 14 | Married-civ-spouse | Exec-managerial   | Wife          | White | Female |    0 | 0 | 40 | United-States | &lt;=50K |\n",
       "\n"
      ],
      "text/plain": [
       "  age workclass        fnlwgt education education-num marital-status    \n",
       "1 39  State-gov         77516 Bachelors 13            Never-married     \n",
       "2 50  Self-emp-not-inc  83311 Bachelors 13            Married-civ-spouse\n",
       "3 38  Private          215646 HS-grad    9            Divorced          \n",
       "4 53  Private          234721 11th       7            Married-civ-spouse\n",
       "5 28  Private          338409 Bachelors 13            Married-civ-spouse\n",
       "6 37  Private          284582 Masters   14            Married-civ-spouse\n",
       "  occupation        relationship  race  sex    capital-gain capital-loss\n",
       "1 Adm-clerical      Not-in-family White Male   2174         0           \n",
       "2 Exec-managerial   Husband       White Male      0         0           \n",
       "3 Handlers-cleaners Not-in-family White Male      0         0           \n",
       "4 Handlers-cleaners Husband       Black Male      0         0           \n",
       "5 Prof-specialty    Wife          Black Female    0         0           \n",
       "6 Exec-managerial   Wife          White Female    0         0           \n",
       "  hours-per-week native-country label\n",
       "1 40             United-States  <=50K\n",
       "2 13             United-States  <=50K\n",
       "3 40             United-States  <=50K\n",
       "4 40             United-States  <=50K\n",
       "5 40             Cuba           <=50K\n",
       "6 40             United-States  <=50K"
      ]
     },
     "metadata": {},
     "output_type": "display_data"
    }
   ],
   "source": [
    "head(data)"
   ]
  },
  {
   "cell_type": "markdown",
   "metadata": {},
   "source": [
    "In the next cell, a function to calculate the Gini for each value in an feature is implemented. Next it is tested with the `education` attribute."
   ]
  },
  {
   "cell_type": "code",
   "execution_count": 144,
   "metadata": {},
   "outputs": [],
   "source": [
    "gini_per_value <- function(data, attribute) {\n",
    "    res <- data %>% \n",
    "        select(!!sym(attribute), label) %>%\n",
    "        group_by(!!sym(attribute)) %>%\n",
    "        count(label) %>%\n",
    "        mutate(prop = prop.table(n) ** 2) %>%\n",
    "        summarise(n = sum(n), res = 1 - sum(prop)) %>%\n",
    "        arrange(desc(res))\n",
    "    return(res)\n",
    "}"
   ]
  },
  {
   "cell_type": "code",
   "execution_count": 145,
   "metadata": {},
   "outputs": [
    {
     "data": {
      "text/html": [
       "<table>\n",
       "<caption>A tibble: 16 × 3</caption>\n",
       "<thead>\n",
       "\t<tr><th scope=col>education</th><th scope=col>n</th><th scope=col>res</th></tr>\n",
       "\t<tr><th scope=col>&lt;chr&gt;</th><th scope=col>&lt;int&gt;</th><th scope=col>&lt;dbl&gt;</th></tr>\n",
       "</thead>\n",
       "<tbody>\n",
       "\t<tr><td>Masters     </td><td> 1723</td><td>0.49359574</td></tr>\n",
       "\t<tr><td>Bachelors   </td><td> 5355</td><td>0.48546575</td></tr>\n",
       "\t<tr><td>Prof-school </td><td>  576</td><td>0.39013672</td></tr>\n",
       "\t<tr><td>Assoc-voc   </td><td> 1382</td><td>0.38596405</td></tr>\n",
       "\t<tr><td>Doctorate   </td><td>  413</td><td>0.38391501</td></tr>\n",
       "\t<tr><td>Assoc-acdm  </td><td> 1067</td><td>0.37335451</td></tr>\n",
       "\t<tr><td>Some-college</td><td> 7291</td><td>0.30809071</td></tr>\n",
       "\t<tr><td>HS-grad     </td><td>10501</td><td>0.26813124</td></tr>\n",
       "\t<tr><td>12th        </td><td>  433</td><td>0.14080826</td></tr>\n",
       "\t<tr><td>10th        </td><td>  933</td><td>0.12407279</td></tr>\n",
       "\t<tr><td>7th-8th     </td><td>  646</td><td>0.11617096</td></tr>\n",
       "\t<tr><td>9th         </td><td>  514</td><td>0.09953974</td></tr>\n",
       "\t<tr><td>11th        </td><td> 1175</td><td>0.09691263</td></tr>\n",
       "\t<tr><td>5th-6th     </td><td>  333</td><td>0.09147887</td></tr>\n",
       "\t<tr><td>1st-4th     </td><td>  168</td><td>0.06887755</td></tr>\n",
       "\t<tr><td>Preschool   </td><td>   51</td><td>0.00000000</td></tr>\n",
       "</tbody>\n",
       "</table>\n"
      ],
      "text/latex": [
       "A tibble: 16 × 3\n",
       "\\begin{tabular}{r|lll}\n",
       " education & n & res\\\\\n",
       " <chr> & <int> & <dbl>\\\\\n",
       "\\hline\n",
       "\t Masters      &  1723 & 0.49359574\\\\\n",
       "\t Bachelors    &  5355 & 0.48546575\\\\\n",
       "\t Prof-school  &   576 & 0.39013672\\\\\n",
       "\t Assoc-voc    &  1382 & 0.38596405\\\\\n",
       "\t Doctorate    &   413 & 0.38391501\\\\\n",
       "\t Assoc-acdm   &  1067 & 0.37335451\\\\\n",
       "\t Some-college &  7291 & 0.30809071\\\\\n",
       "\t HS-grad      & 10501 & 0.26813124\\\\\n",
       "\t 12th         &   433 & 0.14080826\\\\\n",
       "\t 10th         &   933 & 0.12407279\\\\\n",
       "\t 7th-8th      &   646 & 0.11617096\\\\\n",
       "\t 9th          &   514 & 0.09953974\\\\\n",
       "\t 11th         &  1175 & 0.09691263\\\\\n",
       "\t 5th-6th      &   333 & 0.09147887\\\\\n",
       "\t 1st-4th      &   168 & 0.06887755\\\\\n",
       "\t Preschool    &    51 & 0.00000000\\\\\n",
       "\\end{tabular}\n"
      ],
      "text/markdown": [
       "\n",
       "A tibble: 16 × 3\n",
       "\n",
       "| education &lt;chr&gt; | n &lt;int&gt; | res &lt;dbl&gt; |\n",
       "|---|---|---|\n",
       "| Masters      |  1723 | 0.49359574 |\n",
       "| Bachelors    |  5355 | 0.48546575 |\n",
       "| Prof-school  |   576 | 0.39013672 |\n",
       "| Assoc-voc    |  1382 | 0.38596405 |\n",
       "| Doctorate    |   413 | 0.38391501 |\n",
       "| Assoc-acdm   |  1067 | 0.37335451 |\n",
       "| Some-college |  7291 | 0.30809071 |\n",
       "| HS-grad      | 10501 | 0.26813124 |\n",
       "| 12th         |   433 | 0.14080826 |\n",
       "| 10th         |   933 | 0.12407279 |\n",
       "| 7th-8th      |   646 | 0.11617096 |\n",
       "| 9th          |   514 | 0.09953974 |\n",
       "| 11th         |  1175 | 0.09691263 |\n",
       "| 5th-6th      |   333 | 0.09147887 |\n",
       "| 1st-4th      |   168 | 0.06887755 |\n",
       "| Preschool    |    51 | 0.00000000 |\n",
       "\n"
      ],
      "text/plain": [
       "   education    n     res       \n",
       "1  Masters       1723 0.49359574\n",
       "2  Bachelors     5355 0.48546575\n",
       "3  Prof-school    576 0.39013672\n",
       "4  Assoc-voc     1382 0.38596405\n",
       "5  Doctorate      413 0.38391501\n",
       "6  Assoc-acdm    1067 0.37335451\n",
       "7  Some-college  7291 0.30809071\n",
       "8  HS-grad      10501 0.26813124\n",
       "9  12th           433 0.14080826\n",
       "10 10th           933 0.12407279\n",
       "11 7th-8th        646 0.11617096\n",
       "12 9th            514 0.09953974\n",
       "13 11th          1175 0.09691263\n",
       "14 5th-6th        333 0.09147887\n",
       "15 1st-4th        168 0.06887755\n",
       "16 Preschool       51 0.00000000"
      ]
     },
     "metadata": {},
     "output_type": "display_data"
    }
   ],
   "source": [
    "educ <- gini_per_value(data, 'education')\n",
    "educ"
   ]
  },
  {
   "cell_type": "code",
   "execution_count": 142,
   "metadata": {},
   "outputs": [
    {
     "data": {
      "image/png": "[encoded data removed]",
      "text/plain": [
       "plot without title"
      ]
     },
     "metadata": {},
     "output_type": "display_data"
    }
   ],
   "source": [
    "ggplot(data = educ, aes(x=education, y=res)) +\n",
    "    geom_bar(stat='identity', fill=\"steelblue\") +\n",
    "    ggtitle('Gini indexes for education attribute') +\n",
    "    ylab('Gini index') +\n",
    "    xlab('Factors') +\n",
    "    theme(axis.text.x = element_text(angle = 90))"
   ]
  },
  {
   "cell_type": "code",
   "execution_count": 158,
   "metadata": {},
   "outputs": [],
   "source": [
    "gini <- function(data, attribute) {\n",
    "    gpv <- gini_per_value(data, attribute)\n",
    "    value <- gpv %>% \n",
    "        mutate(mul = n * res) %>%\n",
    "        summarise(gini = sum(mul) / sum(n))\n",
    "    return(value$gini)\n",
    "}"
   ]
  },
  {
   "cell_type": "markdown",
   "metadata": {},
   "source": [
    "The implementation is tested at first with the `education` feature. Next, all categorical features in the `adult` dataset are given for calculation of the global Gini Index."
   ]
  },
  {
   "cell_type": "code",
   "execution_count": 161,
   "metadata": {},
   "outputs": [
    {
     "data": {
      "text/html": [
       "0.315898261740458"
      ],
      "text/latex": [
       "0.315898261740458"
      ],
      "text/markdown": [
       "0.315898261740458"
      ],
      "text/plain": [
       "[1] 0.3158983"
      ]
     },
     "metadata": {},
     "output_type": "display_data"
    }
   ],
   "source": [
    "gini(data, 'education')"
   ]
  },
  {
   "cell_type": "markdown",
   "metadata": {},
   "source": [
    "Calculating gini indexes for all categorical attributes"
   ]
  },
  {
   "cell_type": "code",
   "execution_count": 160,
   "metadata": {},
   "outputs": [],
   "source": [
    "categorical_attributes = c('workclass', 'education', 'marital-status',\n",
    "                'occupation', 'relationship', 'race', 'sex', 'native-country')"
   ]
  },
  {
   "cell_type": "code",
   "execution_count": 164,
   "metadata": {},
   "outputs": [],
   "source": [
    "ginis = c()\n",
    "for (attribute in categorical_attributes) {\n",
    "    ginis[attribute] <- gini(data, attribute)\n",
    "}"
   ]
  },
  {
   "cell_type": "code",
   "execution_count": 175,
   "metadata": {},
   "outputs": [
    {
     "data": {
      "image/png": "[encoded data removed]",
      "text/plain": [
       "plot without title"
      ]
     },
     "metadata": {},
     "output_type": "display_data"
    }
   ],
   "source": [
    "ggplot() +\n",
    "    geom_bar(aes(x=names(ginis), y=unname(ginis)), stat='identity', fill=\"steelblue\") +\n",
    "    ggtitle('Gini indexes') +\n",
    "    ylab('Gini index') +\n",
    "    xlab('Factors') +\n",
    "    theme(axis.text.x = element_text(angle = 90))"
   ]
  },
  {
   "cell_type": "markdown",
   "metadata": {},
   "source": [
    "In conclusion, for this example 'relationship' has the highest discriminative power while 'native-country' has the lowest."
   ]
  },
  {
   "cell_type": "markdown",
   "metadata": {},
   "source": [
    "## References\n",
    "\n",
    "- Aggarwal, C. C. (Ed.). (2014). An Introduction to Data Classification (pp. 1-36). _Data classification: algorithms and applications_. Boca Raton, Fla.: CRC Press/Chapman & Hall.\n",
    "- Aggarwal, C. C. (2015). _Data mining: the textbook_. Switzerland: Springer. pp. 289-290\n",
    "- Bramer, M. (2007). Principles of Data Mining. London: Springer-Verlag London Limited. pp. 68-70\n",
    "- Webb, A. R., & Copsey, K. D. (2011). _Statistical pattern recognition_ (3rd ed). United Kingdown: Wiley. p. 328\n",
    "- Zaki, M. J., & Meira, W. (2014). Data mining and analysis: fundamental concepts and algorithms. New York, NY: Cambridge University Press. p. 500"
   ]
  },
  {
   "cell_type": "code",
   "execution_count": null,
   "metadata": {},
   "outputs": [],
   "source": []
  }
 ],
 "metadata": {
  "kernelspec": {
   "display_name": "R",
   "language": "R",
   "name": "ir"
  },
  "language_info": {
   "codemirror_mode": "r",
   "file_extension": ".r",
   "mimetype": "text/x-r-source",
   "name": "R",
   "pygments_lexer": "r",
   "version": "3.6.0"
  }
 },
 "nbformat": 4,
 "nbformat_minor": 2
}
