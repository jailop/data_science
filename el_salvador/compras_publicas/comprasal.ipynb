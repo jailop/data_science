{
 "cells": [
  {
   "cell_type": "markdown",
   "metadata": {},
   "source": [
    "# Compras públicas\n",
    "\n",
    "Por Jaime López  \n",
    "Abril 2019\n",
    "\n",
    "En este notebook se hace un análisis del dataset de procesos de compra registrados en [Comprasal](https://www.comprasal.gob.sv) durante el año 2018. The dataset was given by Ministerio de Hacienda attending request from Fundación Nacional para el Desarrollo."
   ]
  },
  {
   "cell_type": "code",
   "execution_count": 147,
   "metadata": {},
   "outputs": [],
   "source": [
    "# Loading libraries\n",
    "import pandas as pd\n",
    "import matplotlib.pyplot as plt"
   ]
  },
  {
   "cell_type": "markdown",
   "metadata": {},
   "source": [
    "## Data exploration\n",
    "\n",
    "In this section the dataset is loaded in memory, exploring some general characteristics about it."
   ]
  },
  {
   "cell_type": "code",
   "execution_count": 148,
   "metadata": {},
   "outputs": [],
   "source": [
    "data = pd.read_excel('Base_de_datos_de_Comprasal-proporcionado_por_MH.xls')"
   ]
  },
  {
   "cell_type": "code",
   "execution_count": 149,
   "metadata": {},
   "outputs": [
    {
     "data": {
      "text/plain": [
       "Index(['Institucion', 'Tipo de Proceso', 'Codigo Proceso', 'Nombre de Proceso',\n",
       "       'Resultado', 'Monto', 'Nombre Proveedor', 'Fecha Resultado'],\n",
       "      dtype='object')"
      ]
     },
     "execution_count": 149,
     "metadata": {},
     "output_type": "execute_result"
    }
   ],
   "source": [
    "# Getting attribute names\n",
    "data.columns"
   ]
  },
  {
   "cell_type": "code",
   "execution_count": 150,
   "metadata": {},
   "outputs": [
    {
     "data": {
      "text/plain": [
       "(71128, 8)"
      ]
     },
     "execution_count": 150,
     "metadata": {},
     "output_type": "execute_result"
    }
   ],
   "source": [
    "# Dataset dimensions\n",
    "data.shape"
   ]
  },
  {
   "cell_type": "code",
   "execution_count": 151,
   "metadata": {},
   "outputs": [
    {
     "data": {
      "text/html": [
       "<div>\n",
       "<style scoped>\n",
       "    .dataframe tbody tr th:only-of-type {\n",
       "        vertical-align: middle;\n",
       "    }\n",
       "\n",
       "    .dataframe tbody tr th {\n",
       "        vertical-align: top;\n",
       "    }\n",
       "\n",
       "    .dataframe thead th {\n",
       "        text-align: right;\n",
       "    }\n",
       "</style>\n",
       "<table border=\"1\" class=\"dataframe\">\n",
       "  <thead>\n",
       "    <tr style=\"text-align: right;\">\n",
       "      <th></th>\n",
       "      <th>Institucion</th>\n",
       "      <th>Tipo de Proceso</th>\n",
       "      <th>Codigo Proceso</th>\n",
       "      <th>Nombre de Proceso</th>\n",
       "      <th>Resultado</th>\n",
       "      <th>Monto</th>\n",
       "      <th>Nombre Proveedor</th>\n",
       "      <th>Fecha Resultado</th>\n",
       "    </tr>\n",
       "  </thead>\n",
       "  <tbody>\n",
       "    <tr>\n",
       "      <th>0</th>\n",
       "      <td>Academia Nacional de Seguridad Pública</td>\n",
       "      <td>Contratación Directa (CD)</td>\n",
       "      <td>CD-01/2019-ANSP</td>\n",
       "      <td>SERVICIO DE MANTENIMIENTO PREVENTIVO Y CORRECT...</td>\n",
       "      <td>Adjudicada</td>\n",
       "      <td>6000.00</td>\n",
       "      <td>E- BUSINESS DISTRIBUTION DE EL SALVADOR, S.A. ...</td>\n",
       "      <td>2019-02-13 00:00:00</td>\n",
       "    </tr>\n",
       "    <tr>\n",
       "      <th>1</th>\n",
       "      <td>Academia Nacional de Seguridad Pública</td>\n",
       "      <td>Contratación Directa (CD)</td>\n",
       "      <td>CD-02/2019-ANSP</td>\n",
       "      <td>MANTENIMIENTO PREVENTIVO CORRECTIVO DE PLANTA ...</td>\n",
       "      <td>Adjudicada</td>\n",
       "      <td>5766.34</td>\n",
       "      <td>FASOR, S. A. DE C. V.</td>\n",
       "      <td>2019-01-31 00:00:00</td>\n",
       "    </tr>\n",
       "    <tr>\n",
       "      <th>2</th>\n",
       "      <td>Academia Nacional de Seguridad Pública</td>\n",
       "      <td>Contratación Directa (CD)</td>\n",
       "      <td>CD-03/2018-ANSP</td>\n",
       "      <td>SERVICIO DE SOPORTE PARA SOFTWARE ORACLE, DURA...</td>\n",
       "      <td>Adjudicada</td>\n",
       "      <td>13953.95</td>\n",
       "      <td>DATUM, S.A. DE C.V.</td>\n",
       "      <td>2018-09-19 00:00:00</td>\n",
       "    </tr>\n",
       "    <tr>\n",
       "      <th>3</th>\n",
       "      <td>Academia Nacional de Seguridad Pública</td>\n",
       "      <td>Libre Gestion</td>\n",
       "      <td>LG-0159-2018</td>\n",
       "      <td>SUMINISTRO DE CARTONES PARA FIJAR SILUETAS</td>\n",
       "      <td>Oferta Seleccionada</td>\n",
       "      <td>3060.00</td>\n",
       "      <td>IMPRENTA LA TARJETA, S. A. DE C. V.</td>\n",
       "      <td>2018-04-23 00:00:00</td>\n",
       "    </tr>\n",
       "    <tr>\n",
       "      <th>4</th>\n",
       "      <td>Academia Nacional de Seguridad Pública</td>\n",
       "      <td>Libre Gestion</td>\n",
       "      <td>LG-0160-2018</td>\n",
       "      <td>SUMINISTRO DE PLACAS Y MEDALLAS PARA GRADUACIO...</td>\n",
       "      <td>Cierre del Proceso sin Seleccion</td>\n",
       "      <td>0.00</td>\n",
       "      <td>NaN</td>\n",
       "      <td>2018-04-04 00:00:00</td>\n",
       "    </tr>\n",
       "  </tbody>\n",
       "</table>\n",
       "</div>"
      ],
      "text/plain": [
       "                              Institucion            Tipo de Proceso  \\\n",
       "0  Academia Nacional de Seguridad Pública  Contratación Directa (CD)   \n",
       "1  Academia Nacional de Seguridad Pública  Contratación Directa (CD)   \n",
       "2  Academia Nacional de Seguridad Pública  Contratación Directa (CD)   \n",
       "3  Academia Nacional de Seguridad Pública              Libre Gestion   \n",
       "4  Academia Nacional de Seguridad Pública              Libre Gestion   \n",
       "\n",
       "    Codigo Proceso                                  Nombre de Proceso  \\\n",
       "0  CD-01/2019-ANSP  SERVICIO DE MANTENIMIENTO PREVENTIVO Y CORRECT...   \n",
       "1  CD-02/2019-ANSP  MANTENIMIENTO PREVENTIVO CORRECTIVO DE PLANTA ...   \n",
       "2  CD-03/2018-ANSP  SERVICIO DE SOPORTE PARA SOFTWARE ORACLE, DURA...   \n",
       "3     LG-0159-2018         SUMINISTRO DE CARTONES PARA FIJAR SILUETAS   \n",
       "4     LG-0160-2018  SUMINISTRO DE PLACAS Y MEDALLAS PARA GRADUACIO...   \n",
       "\n",
       "                          Resultado     Monto  \\\n",
       "0                        Adjudicada   6000.00   \n",
       "1                        Adjudicada   5766.34   \n",
       "2                        Adjudicada  13953.95   \n",
       "3               Oferta Seleccionada   3060.00   \n",
       "4  Cierre del Proceso sin Seleccion      0.00   \n",
       "\n",
       "                                    Nombre Proveedor      Fecha Resultado  \n",
       "0  E- BUSINESS DISTRIBUTION DE EL SALVADOR, S.A. ...  2019-02-13 00:00:00  \n",
       "1           FASOR, S. A. DE C. V.                     2019-01-31 00:00:00  \n",
       "2                                DATUM, S.A. DE C.V.  2018-09-19 00:00:00  \n",
       "3                IMPRENTA LA TARJETA, S. A. DE C. V.  2018-04-23 00:00:00  \n",
       "4                                                NaN  2018-04-04 00:00:00  "
      ]
     },
     "execution_count": 151,
     "metadata": {},
     "output_type": "execute_result"
    }
   ],
   "source": [
    "# Looking the first observations\n",
    "data.head()"
   ]
  },
  {
   "cell_type": "markdown",
   "metadata": {},
   "source": [
    "## Procurements by type of process"
   ]
  },
  {
   "cell_type": "code",
   "execution_count": 152,
   "metadata": {},
   "outputs": [],
   "source": [
    "def normalize_name(name):\n",
    "    ret = name\n",
    "    pos1 = name.find('(')\n",
    "    if pos1 > 0:\n",
    "        ret = name[:pos1].strip()\n",
    "    pos2 = name.find('-')\n",
    "    if pos2 > 0:\n",
    "        ret = ret[:pos2].strip()\n",
    "    if ret == 'Licitacion Publica Internacional':\n",
    "        ret = 'Licitación Pública Internacional'\n",
    "    if ret.find('Licitación') >= 0:\n",
    "        ret = 'Licitación'\n",
    "    if ret.find('Concurso') >= 0:\n",
    "        ret = 'Concurso'\n",
    "    return ret"
   ]
  },
  {
   "cell_type": "code",
   "execution_count": 153,
   "metadata": {},
   "outputs": [],
   "source": [
    "def successful_process(process):\n",
    "    process = str(process)\n",
    "    if process.find('Adjudic') >= 0:\n",
    "        return True\n",
    "    if process == 'Oferta Seleccionada':\n",
    "        return True\n",
    "    if process.find('Formaliz') >= 0:\n",
    "        return True\n",
    "    return False"
   ]
  },
  {
   "cell_type": "code",
   "execution_count": 154,
   "metadata": {},
   "outputs": [
    {
     "data": {
      "text/html": [
       "<div>\n",
       "<style scoped>\n",
       "    .dataframe tbody tr th:only-of-type {\n",
       "        vertical-align: middle;\n",
       "    }\n",
       "\n",
       "    .dataframe tbody tr th {\n",
       "        vertical-align: top;\n",
       "    }\n",
       "\n",
       "    .dataframe thead th {\n",
       "        text-align: right;\n",
       "    }\n",
       "</style>\n",
       "<table border=\"1\" class=\"dataframe\">\n",
       "  <thead>\n",
       "    <tr style=\"text-align: right;\">\n",
       "      <th></th>\n",
       "      <th>Monto</th>\n",
       "    </tr>\n",
       "    <tr>\n",
       "      <th>Tipo de Proc.</th>\n",
       "      <th></th>\n",
       "    </tr>\n",
       "  </thead>\n",
       "  <tbody>\n",
       "    <tr>\n",
       "      <th>Licitación</th>\n",
       "      <td>384.692919</td>\n",
       "    </tr>\n",
       "    <tr>\n",
       "      <th>Libre Gestion</th>\n",
       "      <td>115.075753</td>\n",
       "    </tr>\n",
       "    <tr>\n",
       "      <th>Contratación Directa</th>\n",
       "      <td>87.694427</td>\n",
       "    </tr>\n",
       "    <tr>\n",
       "      <th>Aviso de Expresiones de Interes</th>\n",
       "      <td>31.101915</td>\n",
       "    </tr>\n",
       "    <tr>\n",
       "      <th>Comparación de Precios</th>\n",
       "      <td>2.598854</td>\n",
       "    </tr>\n",
       "    <tr>\n",
       "      <th>Concurso</th>\n",
       "      <td>2.071413</td>\n",
       "    </tr>\n",
       "    <tr>\n",
       "      <th>Consultor Individual</th>\n",
       "      <td>0.470892</td>\n",
       "    </tr>\n",
       "    <tr>\n",
       "      <th>Calidad y Costo</th>\n",
       "      <td>0.220000</td>\n",
       "    </tr>\n",
       "    <tr>\n",
       "      <th>Convenio Interinstitucional</th>\n",
       "      <td>0.030000</td>\n",
       "    </tr>\n",
       "    <tr>\n",
       "      <th>Calificacion de Consultores</th>\n",
       "      <td>0.016000</td>\n",
       "    </tr>\n",
       "  </tbody>\n",
       "</table>\n",
       "</div>"
      ],
      "text/plain": [
       "                                      Monto\n",
       "Tipo de Proc.                              \n",
       "Licitación                       384.692919\n",
       "Libre Gestion                    115.075753\n",
       "Contratación Directa              87.694427\n",
       "Aviso de Expresiones de Interes   31.101915\n",
       "Comparación de Precios             2.598854\n",
       "Concurso                           2.071413\n",
       "Consultor Individual               0.470892\n",
       "Calidad y Costo                    0.220000\n",
       "Convenio Interinstitucional        0.030000\n",
       "Calificacion de Consultores        0.016000"
      ]
     },
     "execution_count": 154,
     "metadata": {},
     "output_type": "execute_result"
    }
   ],
   "source": [
    "data['Tipo de Proc.'] = data['Tipo de Proceso'].apply(normalize_name)\n",
    "awarded = data[data.Resultado.apply(successful_process)]\n",
    "by_process = awarded.groupby(['Tipo de Proc.']).sum().sort_values('Monto', ascending=False) / 1e6\n",
    "by_process = by_process[by_process.Monto > 0]\n",
    "by_process"
   ]
  },
  {
   "cell_type": "code",
   "execution_count": 162,
   "metadata": {},
   "outputs": [
    {
     "data": {
      "text/plain": [
       "Text(0, 0.5, 'USD Millones')"
      ]
     },
     "execution_count": 162,
     "metadata": {},
     "output_type": "execute_result"
    },
    {
     "data": {
      "image/png": "[encoded data removed]",
      "text/plain": [
       "<Figure size 1152x648 with 1 Axes>"
      ]
     },
     "metadata": {
      "needs_background": "light"
     },
     "output_type": "display_data"
    }
   ],
   "source": [
    "by_process.plot(kind='bar', alpha=0.5, figsize=(16,9))\n",
    "plt.title('Procesos de compra 2018 registrados en COMPRASAL')\n",
    "plt.xlabel('Tipo de proceso')\n",
    "plt.ylabel('USD Millones')"
   ]
  },
  {
   "cell_type": "code",
   "execution_count": 163,
   "metadata": {},
   "outputs": [
    {
     "name": "stdout",
     "output_type": "stream",
     "text": [
      "Monto negociado: 41633.0 millones\n"
     ]
    }
   ],
   "source": [
    "print('Monto negociado: %.1f millones' % by_process.sum())"
   ]
  },
  {
   "cell_type": "code",
   "execution_count": 165,
   "metadata": {},
   "outputs": [
    {
     "data": {
      "text/plain": [
       "Tipo de Proc.\n",
       "Libre Gestion                      0.922465\n",
       "Licitación                         0.061442\n",
       "Contratación Directa               0.009103\n",
       "Aviso de Expresiones de Interes    0.003987\n",
       "Comparación de Precios             0.001369\n",
       "Consultor Individual               0.000985\n",
       "Concurso                           0.000576\n",
       "Calidad y Costo                    0.000024\n",
       "Calificacion de Consultores        0.000024\n",
       "Convenio Interinstitucional        0.000024\n",
       "Name: Monto, dtype: float64"
      ]
     },
     "execution_count": 165,
     "metadata": {},
     "output_type": "execute_result"
    }
   ],
   "source": [
    "# Relative frequency\n",
    "by_process / by_process.sum()"
   ]
  },
  {
   "cell_type": "code",
   "execution_count": 166,
   "metadata": {},
   "outputs": [
    {
     "data": {
      "text/plain": [
       "Tipo de Proc.\n",
       "Libre Gestion                      38405\n",
       "Licitación                          2558\n",
       "Contratación Directa                 379\n",
       "Aviso de Expresiones de Interes      166\n",
       "Comparación de Precios                57\n",
       "Consultor Individual                  41\n",
       "Concurso                              24\n",
       "Calidad y Costo                        1\n",
       "Calificacion de Consultores            1\n",
       "Convenio Interinstitucional            1\n",
       "Name: Monto, dtype: int64"
      ]
     },
     "execution_count": 166,
     "metadata": {},
     "output_type": "execute_result"
    }
   ],
   "source": [
    "data['Tipo de Proc.'] = data['Tipo de Proceso'].apply(normalize_name)\n",
    "awarded = data[data.Resultado.apply(successful_process)]\n",
    "by_process = awarded.groupby(['Tipo de Proc.']).count().sort_values('Monto', ascending=False)\n",
    "by_process = by_process[by_process.Monto > 0]['Monto']\n",
    "by_process"
   ]
  },
  {
   "cell_type": "code",
   "execution_count": 167,
   "metadata": {},
   "outputs": [
    {
     "data": {
      "text/plain": [
       "Text(0, 0.5, 'Frecuencia')"
      ]
     },
     "execution_count": 167,
     "metadata": {},
     "output_type": "execute_result"
    },
    {
     "data": {
      "image/png": "[encoded data removed]",
      "text/plain": [
       "<Figure size 1152x648 with 1 Axes>"
      ]
     },
     "metadata": {
      "needs_background": "light"
     },
     "output_type": "display_data"
    }
   ],
   "source": [
    "by_process.plot(kind='bar', alpha=0.5, figsize=(16,9))\n",
    "plt.title('Procesos de compra 2018 registrados en COMPRASAL')\n",
    "plt.xlabel('Tipo de proceso')\n",
    "plt.ylabel('Frecuencia')"
   ]
  },
  {
   "cell_type": "code",
   "execution_count": 168,
   "metadata": {},
   "outputs": [
    {
     "name": "stdout",
     "output_type": "stream",
     "text": [
      "Número de procesos: 41633\n",
      "Por libre gestión: 92.2%\n"
     ]
    }
   ],
   "source": [
    "por_libre_gestion = dict(by_process)['Libre Gestion'] / by_process.sum() * 100\n",
    "print('Número de procesos: %d' % by_process.sum())\n",
    "print('Por libre gestión: %.1f' % por_libre_gestion + '%')"
   ]
  },
  {
   "cell_type": "code",
   "execution_count": 169,
   "metadata": {},
   "outputs": [
    {
     "data": {
      "text/plain": [
       "Tipo de Proc.\n",
       "Libre Gestion                      0.922465\n",
       "Licitación                         0.061442\n",
       "Contratación Directa               0.009103\n",
       "Aviso de Expresiones de Interes    0.003987\n",
       "Comparación de Precios             0.001369\n",
       "Consultor Individual               0.000985\n",
       "Concurso                           0.000576\n",
       "Calidad y Costo                    0.000024\n",
       "Calificacion de Consultores        0.000024\n",
       "Convenio Interinstitucional        0.000024\n",
       "Name: Monto, dtype: float64"
      ]
     },
     "execution_count": 169,
     "metadata": {},
     "output_type": "execute_result"
    }
   ],
   "source": [
    "# Relative frequency\n",
    "by_process / by_process.sum()"
   ]
  },
  {
   "cell_type": "code",
   "execution_count": null,
   "metadata": {},
   "outputs": [],
   "source": []
  }
 ],
 "metadata": {
  "kernelspec": {
   "display_name": "Python 3",
   "language": "python",
   "name": "python3"
  },
  "language_info": {
   "codemirror_mode": {
    "name": "ipython",
    "version": 3
   },
   "file_extension": ".py",
   "mimetype": "text/x-python",
   "name": "python",
   "nbconvert_exporter": "python",
   "pygments_lexer": "ipython3",
   "version": "3.7.3"
  }
 },
 "nbformat": 4,
 "nbformat_minor": 2
}
