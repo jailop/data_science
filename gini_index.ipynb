{
 "cells": [
  {
   "cell_type": "markdown",
   "metadata": {},
   "source": [
    "# Gini index\n",
    "\n",
    "By Jaime Lopez  \n",
    "Mar. 10, 2019 (Updated: Apr. 20, 2019)\n",
    "\n",
    "## Theory\n",
    "\n",
    "The Gini index is typically used for categorical attributes to measure their discriminative power.\n",
    "\n",
    "Let $v_1, v_2, \\dots, v_r$ be the $r$ possible values of a particular categorical attribute. Let $p_j$ be the fraction of data points containing attribute of value $v_i$ that belongs to the class $j \\in \\{1, 2, \\dots, k\\}$ for the attribute  $v_i$.\n",
    "\n",
    "The Gini index $G(v_i)$ is defined as follows:\n",
    "\n",
    "$$G(v_i) = 1 - \\sum_{j=1}^k p_j^2$$\n",
    "\n",
    "When the different classes are distributed evenly for a particular attribute value, the value of Gini index is $1 - 1/k$. If all data points for an attribute value $v_i$ belong to the same class, then the Gini index is 0. Lower values of the Gini index imply greater discrimination. In other words, higher values of the Gini index indicate more disorder, and lower values indicate more order in terms of the class labels.\n",
    "\n",
    "The value-specific Gini index is converted into an attributewise Gini index. Let $n_i$ be the number of data points that take on the value $v_i$ for an attribute. Then, for a dataset containing $\\sum_{i=1}^n n_i = n$ data points, the overall Gini index $G$ for the attribute is defined as the weighted average over the different attribute value as follows:\n",
    "\n",
    "$$G= \\frac{1}{n} \\sum_{i=1}^r n_i G(v_i)$$"
   ]
  },
  {
   "cell_type": "markdown",
   "metadata": {},
   "source": [
    "As an example, the [adult dataset](http://archive.ics.uci.edu/ml/datasets/Adult) from UCI Machine Learning Repository will be used."
   ]
  },
  {
   "cell_type": "markdown",
   "metadata": {},
   "source": [
    "## Implementation\n",
    "\n",
    "First, the environment is configurated loading libraries as `pandas` and `numpy`."
   ]
  },
  {
   "cell_type": "code",
   "execution_count": 1,
   "metadata": {},
   "outputs": [],
   "source": [
    "import pandas as pd\n",
    "import numpy as np\n",
    "import matplotlib.pyplot as plt\n",
    "%matplotlib inline"
   ]
  },
  {
   "cell_type": "code",
   "execution_count": 2,
   "metadata": {},
   "outputs": [
    {
     "name": "stdout",
     "output_type": "stream",
     "text": [
      "(32561, 15)\n"
     ]
    }
   ],
   "source": [
    "# Workin with the adult dataset\n",
    "data = pd.read_csv('datasets/adult/adult.csv')\n",
    "print(data.shape)"
   ]
  },
  {
   "cell_type": "markdown",
   "metadata": {},
   "source": [
    "In the previous lines, the `adult` dataset was loaded which has 15 features and 32,561 observations. It has been referenced by the `data` variable. "
   ]
  },
  {
   "cell_type": "code",
   "execution_count": 3,
   "metadata": {},
   "outputs": [
    {
     "data": {
      "text/html": [
       "<div>\n",
       "<style scoped>\n",
       "    .dataframe tbody tr th:only-of-type {\n",
       "        vertical-align: middle;\n",
       "    }\n",
       "\n",
       "    .dataframe tbody tr th {\n",
       "        vertical-align: top;\n",
       "    }\n",
       "\n",
       "    .dataframe thead th {\n",
       "        text-align: right;\n",
       "    }\n",
       "</style>\n",
       "<table border=\"1\" class=\"dataframe\">\n",
       "  <thead>\n",
       "    <tr style=\"text-align: right;\">\n",
       "      <th></th>\n",
       "      <th>age</th>\n",
       "      <th>workclass</th>\n",
       "      <th>fnlwgt</th>\n",
       "      <th>education</th>\n",
       "      <th>education-num</th>\n",
       "      <th>marital-status</th>\n",
       "      <th>occupation</th>\n",
       "      <th>relationship</th>\n",
       "      <th>race</th>\n",
       "      <th>sex</th>\n",
       "      <th>capital-gain</th>\n",
       "      <th>capital-loss</th>\n",
       "      <th>hours-per-week</th>\n",
       "      <th>native-country</th>\n",
       "      <th>label</th>\n",
       "    </tr>\n",
       "  </thead>\n",
       "  <tbody>\n",
       "    <tr>\n",
       "      <th>0</th>\n",
       "      <td>39</td>\n",
       "      <td>State-gov</td>\n",
       "      <td>77516</td>\n",
       "      <td>Bachelors</td>\n",
       "      <td>13</td>\n",
       "      <td>Never-married</td>\n",
       "      <td>Adm-clerical</td>\n",
       "      <td>Not-in-family</td>\n",
       "      <td>White</td>\n",
       "      <td>Male</td>\n",
       "      <td>2174</td>\n",
       "      <td>0</td>\n",
       "      <td>40</td>\n",
       "      <td>United-States</td>\n",
       "      <td>&lt;=50K</td>\n",
       "    </tr>\n",
       "    <tr>\n",
       "      <th>1</th>\n",
       "      <td>50</td>\n",
       "      <td>Self-emp-not-inc</td>\n",
       "      <td>83311</td>\n",
       "      <td>Bachelors</td>\n",
       "      <td>13</td>\n",
       "      <td>Married-civ-spouse</td>\n",
       "      <td>Exec-managerial</td>\n",
       "      <td>Husband</td>\n",
       "      <td>White</td>\n",
       "      <td>Male</td>\n",
       "      <td>0</td>\n",
       "      <td>0</td>\n",
       "      <td>13</td>\n",
       "      <td>United-States</td>\n",
       "      <td>&lt;=50K</td>\n",
       "    </tr>\n",
       "    <tr>\n",
       "      <th>2</th>\n",
       "      <td>38</td>\n",
       "      <td>Private</td>\n",
       "      <td>215646</td>\n",
       "      <td>HS-grad</td>\n",
       "      <td>9</td>\n",
       "      <td>Divorced</td>\n",
       "      <td>Handlers-cleaners</td>\n",
       "      <td>Not-in-family</td>\n",
       "      <td>White</td>\n",
       "      <td>Male</td>\n",
       "      <td>0</td>\n",
       "      <td>0</td>\n",
       "      <td>40</td>\n",
       "      <td>United-States</td>\n",
       "      <td>&lt;=50K</td>\n",
       "    </tr>\n",
       "    <tr>\n",
       "      <th>3</th>\n",
       "      <td>53</td>\n",
       "      <td>Private</td>\n",
       "      <td>234721</td>\n",
       "      <td>11th</td>\n",
       "      <td>7</td>\n",
       "      <td>Married-civ-spouse</td>\n",
       "      <td>Handlers-cleaners</td>\n",
       "      <td>Husband</td>\n",
       "      <td>Black</td>\n",
       "      <td>Male</td>\n",
       "      <td>0</td>\n",
       "      <td>0</td>\n",
       "      <td>40</td>\n",
       "      <td>United-States</td>\n",
       "      <td>&lt;=50K</td>\n",
       "    </tr>\n",
       "    <tr>\n",
       "      <th>4</th>\n",
       "      <td>28</td>\n",
       "      <td>Private</td>\n",
       "      <td>338409</td>\n",
       "      <td>Bachelors</td>\n",
       "      <td>13</td>\n",
       "      <td>Married-civ-spouse</td>\n",
       "      <td>Prof-specialty</td>\n",
       "      <td>Wife</td>\n",
       "      <td>Black</td>\n",
       "      <td>Female</td>\n",
       "      <td>0</td>\n",
       "      <td>0</td>\n",
       "      <td>40</td>\n",
       "      <td>Cuba</td>\n",
       "      <td>&lt;=50K</td>\n",
       "    </tr>\n",
       "  </tbody>\n",
       "</table>\n",
       "</div>"
      ],
      "text/plain": [
       "   age          workclass  fnlwgt   education  education-num  \\\n",
       "0   39          State-gov   77516   Bachelors             13   \n",
       "1   50   Self-emp-not-inc   83311   Bachelors             13   \n",
       "2   38            Private  215646     HS-grad              9   \n",
       "3   53            Private  234721        11th              7   \n",
       "4   28            Private  338409   Bachelors             13   \n",
       "\n",
       "        marital-status          occupation    relationship    race      sex  \\\n",
       "0        Never-married        Adm-clerical   Not-in-family   White     Male   \n",
       "1   Married-civ-spouse     Exec-managerial         Husband   White     Male   \n",
       "2             Divorced   Handlers-cleaners   Not-in-family   White     Male   \n",
       "3   Married-civ-spouse   Handlers-cleaners         Husband   Black     Male   \n",
       "4   Married-civ-spouse      Prof-specialty            Wife   Black   Female   \n",
       "\n",
       "   capital-gain  capital-loss  hours-per-week  native-country   label  \n",
       "0          2174             0              40   United-States   <=50K  \n",
       "1             0             0              13   United-States   <=50K  \n",
       "2             0             0              40   United-States   <=50K  \n",
       "3             0             0              40   United-States   <=50K  \n",
       "4             0             0              40            Cuba   <=50K  "
      ]
     },
     "execution_count": 3,
     "metadata": {},
     "output_type": "execute_result"
    }
   ],
   "source": [
    "data.head()"
   ]
  },
  {
   "cell_type": "markdown",
   "metadata": {},
   "source": [
    "In the next cell, a function to calculate the Gini for each value in an feature is implemented. Next it is tested with the `education` attribute."
   ]
  },
  {
   "cell_type": "code",
   "execution_count": 4,
   "metadata": {},
   "outputs": [],
   "source": [
    "def gini_per_value(data, attribute):\n",
    "    \"\"\"\n",
    "    This function calculates gini index for each value\n",
    "    contained in a categorical attribute related with\n",
    "    the output labels.\n",
    "    \"\"\"\n",
    "    g = {}\n",
    "    v = data[attribute].unique()\n",
    "    for v_i in v:\n",
    "        freq = data[data[attribute] == v_i]['label'].value_counts()\n",
    "        p = freq / freq.sum()\n",
    "        g_i = 1 - np.square(p).sum()\n",
    "        g[v_i] = g_i\n",
    "    return g"
   ]
  },
  {
   "cell_type": "code",
   "execution_count": 5,
   "metadata": {},
   "outputs": [
    {
     "data": {
      "text/plain": [
       "{' Bachelors': 0.48546575057038055,\n",
       " ' HS-grad': 0.26813123787640225,\n",
       " ' 11th': 0.09691263014938878,\n",
       " ' Masters': 0.4935957441720009,\n",
       " ' 9th': 0.09953973565080476,\n",
       " ' Some-college': 0.3080907142899201,\n",
       " ' Assoc-acdm': 0.37335450759735056,\n",
       " ' Assoc-voc': 0.38596404883126234,\n",
       " ' 7th-8th': 0.11617095917721831,\n",
       " ' Doctorate': 0.38391501386535665,\n",
       " ' Prof-school': 0.39013671875,\n",
       " ' 5th-6th': 0.09147886625364099,\n",
       " ' 10th': 0.12407279127019422,\n",
       " ' 1st-4th': 0.06887755102040805,\n",
       " ' Preschool': 0.0,\n",
       " ' 12th': 0.1408082607512975}"
      ]
     },
     "execution_count": 5,
     "metadata": {},
     "output_type": "execute_result"
    }
   ],
   "source": [
    "gini_education = gini_per_value(data, 'education')\n",
    "gini_education"
   ]
  },
  {
   "cell_type": "code",
   "execution_count": 6,
   "metadata": {},
   "outputs": [
    {
     "data": {
      "text/plain": [
       "([0, 1, 2, 3, 4, 5, 6, 7, 8, 9, 10, 11, 12, 13, 14, 15],\n",
       " <a list of 16 Text xticklabel objects>)"
      ]
     },
     "execution_count": 6,
     "metadata": {},
     "output_type": "execute_result"
    },
    {
     "data": {
      "image/png": "[encoded data removed]",
      "text/plain": [
       "<Figure size 432x288 with 1 Axes>"
      ]
     },
     "metadata": {
      "needs_background": "light"
     },
     "output_type": "display_data"
    }
   ],
   "source": [
    "plt.bar(gini_education.keys(), gini_education.values())\n",
    "plt.xticks(rotation=90)"
   ]
  },
  {
   "cell_type": "markdown",
   "metadata": {},
   "source": [
    "Using the previous function, next a function to calculate the global Gini Index for a given list of features is implemented."
   ]
  },
  {
   "cell_type": "code",
   "execution_count": 7,
   "metadata": {},
   "outputs": [],
   "source": [
    "def gini_index(data, attributes):\n",
    "    \"\"\"\n",
    "    This function finds a aggregate Gini\n",
    "    index for a categorical attribute\n",
    "    \"\"\"\n",
    "    res = {}\n",
    "    for attrib in attributes:\n",
    "        v = data[attrib].unique()\n",
    "        g = gini_per_value(data, attrib)\n",
    "        n = data[attrib].value_counts()\n",
    "        N = n.sum()\n",
    "        n = dict(n)\n",
    "        G = np.array([n[v_i] * g[v_i] for v_i in v]).sum() / N\n",
    "        res[attrib] = G\n",
    "    return res"
   ]
  },
  {
   "cell_type": "markdown",
   "metadata": {},
   "source": [
    "The implementation is tested at first with the `education` feature. Next, all categorical features in the `adult` dataset are given for calculation of the global Gini Index."
   ]
  },
  {
   "cell_type": "code",
   "execution_count": 8,
   "metadata": {},
   "outputs": [
    {
     "data": {
      "text/plain": [
       "{'education': 0.3158982617404577}"
      ]
     },
     "execution_count": 8,
     "metadata": {},
     "output_type": "execute_result"
    }
   ],
   "source": [
    "gini_index(data, ['education'])"
   ]
  },
  {
   "cell_type": "code",
   "execution_count": 9,
   "metadata": {},
   "outputs": [],
   "source": [
    "categorical_attributes = ['workclass', 'education', 'marital-status',\n",
    "                'occupation', 'relationship', 'race', 'sex', 'native-country']"
   ]
  },
  {
   "cell_type": "code",
   "execution_count": 10,
   "metadata": {},
   "outputs": [
    {
     "data": {
      "text/plain": [
       "{'workclass': 0.3538979444734442,\n",
       " 'education': 0.3158982617404577,\n",
       " 'marital-status': 0.2924502737131609,\n",
       " 'occupation': 0.3203639602064241,\n",
       " 'relationship': 0.2904139869781749,\n",
       " 'race': 0.36192458971149577,\n",
       " 'sex': 0.3485844349969883,\n",
       " 'native-country': 0.3620783207623509}"
      ]
     },
     "execution_count": 10,
     "metadata": {},
     "output_type": "execute_result"
    }
   ],
   "source": [
    "ginis = gini_index(data, categorical_attributes)\n",
    "ginis"
   ]
  },
  {
   "cell_type": "code",
   "execution_count": 11,
   "metadata": {},
   "outputs": [
    {
     "data": {
      "text/plain": [
       "([0, 1, 2, 3, 4, 5, 6, 7], <a list of 8 Text xticklabel objects>)"
      ]
     },
     "execution_count": 11,
     "metadata": {},
     "output_type": "execute_result"
    },
    {
     "data": {
      "image/png": "[encoded data removed]",
      "text/plain": [
       "<Figure size 432x288 with 1 Axes>"
      ]
     },
     "metadata": {
      "needs_background": "light"
     },
     "output_type": "display_data"
    }
   ],
   "source": [
    "plt.bar(ginis.keys(), ginis.values())\n",
    "plt.xticks(rotation=90)"
   ]
  },
  {
   "cell_type": "markdown",
   "metadata": {},
   "source": [
    "In conclusion, for this example 'relationship' has the highest discriminative power while 'native-country' has the lowest."
   ]
  },
  {
   "cell_type": "markdown",
   "metadata": {},
   "source": [
    "## References\n",
    "\n",
    "- Aggarwal, C. C. (Ed.). (2014). An Introduction to Data Classification (pp. 1-36). _Data classification: algorithms and applications_. Boca Raton, Fla.: CRC Press/Chapman & Hall.\n",
    "- Aggarwal, C. C. (2015). _Data mining: the textbook_. Switzerland: Springer. pp. 289-290\n",
    "- Bramer, M. (2007). Principles of Data Mining. London: Springer-Verlag London Limited. pp. 68-70\n",
    "- Webb, A. R., & Copsey, K. D. (2011). _Statistical pattern recognition_ (3rd ed). United Kingdown: Wiley. p. 328\n",
    "- Zaki, M. J., & Meira, W. (2014). Data mining and analysis: fundamental concepts and algorithms. New York, NY: Cambridge University Press. p. 500"
   ]
  },
  {
   "cell_type": "code",
   "execution_count": null,
   "metadata": {},
   "outputs": [],
   "source": []
  }
 ],
 "metadata": {
  "kernelspec": {
   "display_name": "Python 3",
   "language": "python",
   "name": "python3"
  },
  "language_info": {
   "codemirror_mode": {
    "name": "ipython",
    "version": 3
   },
   "file_extension": ".py",
   "mimetype": "text/x-python",
   "name": "python",
   "nbconvert_exporter": "python",
   "pygments_lexer": "ipython3",
   "version": "3.7.3"
  }
 },
 "nbformat": 4,
 "nbformat_minor": 2
}
