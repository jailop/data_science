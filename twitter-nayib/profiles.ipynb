{
 "cells": [
  {
   "cell_type": "code",
   "execution_count": 74,
   "metadata": {},
   "outputs": [],
   "source": [
    "import os\n",
    "import time\n",
    "import tweepy\n",
    "import random\n",
    "from dotenv import load_dotenv\n",
    "import pandas as pd\n",
    "import matplotlib.pyplot as plt\n",
    "%matplotlib inline"
   ]
  },
  {
   "cell_type": "code",
   "execution_count": 2,
   "metadata": {},
   "outputs": [],
   "source": [
    "load_dotenv()\n",
    "auth = tweepy.OAuthHandler(os.getenv('API_KEY'), os.getenv('SECRET_KEY'))\n",
    "api = tweepy.API(auth, wait_on_rate_limit=True, wait_on_rate_limit_notify=True, compression=True)"
   ]
  },
  {
   "cell_type": "code",
   "execution_count": 3,
   "metadata": {},
   "outputs": [],
   "source": [
    "ids = open('followers.txt', 'r').read().split('\\n')"
   ]
  },
  {
   "cell_type": "markdown",
   "metadata": {},
   "source": [
    "Tamaño de la muestra:\n",
    "\n",
    "$$n = \\frac{N Z_a^2 pq}{d^2(N-1)Z_a^2 pq}$$\n",
    "\n",
    "Donde:\n",
    "\n",
    "- $N$: Tamaño de la población\n",
    "- $Z$: Nivel de confianza\n",
    "- $d$: Error admisible"
   ]
  },
  {
   "cell_type": "code",
   "execution_count": 13,
   "metadata": {},
   "outputs": [
    {
     "data": {
      "text/plain": [
       "1111.1124030977705"
      ]
     },
     "execution_count": 13,
     "metadata": {},
     "output_type": "execute_result"
    }
   ],
   "source": [
    "n = (len(ids) * 1.96 ** 2 * 0.5 * 0.5) / (0.03 ** 2 * (len(ids) - 1) * 1.96 ** 2 * 0.5 * 0.5)\n",
    "n"
   ]
  },
  {
   "cell_type": "code",
   "execution_count": 14,
   "metadata": {},
   "outputs": [],
   "source": [
    "random.seed(30)\n",
    "sample = random.sample(ids, 1200)"
   ]
  },
  {
   "cell_type": "code",
   "execution_count": 44,
   "metadata": {},
   "outputs": [
    {
     "name": "stderr",
     "output_type": "stream",
     "text": [
      "Rate limit reached. Sleeping for: 531\n",
      "Rate limit reached. Sleeping for: 619\n"
     ]
    }
   ],
   "source": [
    "users = []\n",
    "for user_id in sample:\n",
    "    user = api.get_user(user_id)\n",
    "    u = {\n",
    "        'created_at' : user.created_at,\n",
    "        'description' : user.description,\n",
    "        'favorites_count': user.favourites_count,\n",
    "        'followers_count': user.followers_count,\n",
    "        'friends_count': user.friends_count,\n",
    "        'listed_count': user.listed_count,\n",
    "        'location': user.location,\n",
    "        'name': user.name,\n",
    "        'screen_name': user.screen_name,\n",
    "        'url': user.url\n",
    "    }\n",
    "    users.append(u)"
   ]
  },
  {
   "cell_type": "code",
   "execution_count": 45,
   "metadata": {},
   "outputs": [],
   "source": [
    "df = pd.DataFrame(users)"
   ]
  },
  {
   "cell_type": "code",
   "execution_count": 46,
   "metadata": {},
   "outputs": [
    {
     "data": {
      "text/html": [
       "<div>\n",
       "<style scoped>\n",
       "    .dataframe tbody tr th:only-of-type {\n",
       "        vertical-align: middle;\n",
       "    }\n",
       "\n",
       "    .dataframe tbody tr th {\n",
       "        vertical-align: top;\n",
       "    }\n",
       "\n",
       "    .dataframe thead th {\n",
       "        text-align: right;\n",
       "    }\n",
       "</style>\n",
       "<table border=\"1\" class=\"dataframe\">\n",
       "  <thead>\n",
       "    <tr style=\"text-align: right;\">\n",
       "      <th></th>\n",
       "      <th>created_at</th>\n",
       "      <th>description</th>\n",
       "      <th>favorites_count</th>\n",
       "      <th>followers_count</th>\n",
       "      <th>friends_count</th>\n",
       "      <th>listed_count</th>\n",
       "      <th>location</th>\n",
       "      <th>name</th>\n",
       "      <th>screen_name</th>\n",
       "      <th>url</th>\n",
       "    </tr>\n",
       "  </thead>\n",
       "  <tbody>\n",
       "    <tr>\n",
       "      <th>0</th>\n",
       "      <td>2013-11-10 03:12:18</td>\n",
       "      <td>La Ceiba 0101\\n🌴 Honduras 🇭🇳 504\\nCatracha \\n🙋...</td>\n",
       "      <td>231</td>\n",
       "      <td>79</td>\n",
       "      <td>333</td>\n",
       "      <td>0</td>\n",
       "      <td>Mi bbpin: 79639917</td>\n",
       "      <td>Michelle Mendoza</td>\n",
       "      <td>Mimendozas</td>\n",
       "      <td>None</td>\n",
       "    </tr>\n",
       "    <tr>\n",
       "      <th>1</th>\n",
       "      <td>2011-06-12 20:41:50</td>\n",
       "      <td></td>\n",
       "      <td>109</td>\n",
       "      <td>31</td>\n",
       "      <td>150</td>\n",
       "      <td>1</td>\n",
       "      <td>El Salvador</td>\n",
       "      <td>Emanuel Moncada</td>\n",
       "      <td>EmanuelMoncada</td>\n",
       "      <td>None</td>\n",
       "    </tr>\n",
       "    <tr>\n",
       "      <th>2</th>\n",
       "      <td>2019-04-02 03:39:29</td>\n",
       "      <td></td>\n",
       "      <td>61</td>\n",
       "      <td>1</td>\n",
       "      <td>67</td>\n",
       "      <td>0</td>\n",
       "      <td></td>\n",
       "      <td>Maby</td>\n",
       "      <td>MabyMazariegosf</td>\n",
       "      <td>None</td>\n",
       "    </tr>\n",
       "    <tr>\n",
       "      <th>3</th>\n",
       "      <td>2015-04-14 00:38:09</td>\n",
       "      <td></td>\n",
       "      <td>8</td>\n",
       "      <td>31</td>\n",
       "      <td>462</td>\n",
       "      <td>0</td>\n",
       "      <td></td>\n",
       "      <td>Adriana Mochez</td>\n",
       "      <td>AMochez</td>\n",
       "      <td>None</td>\n",
       "    </tr>\n",
       "    <tr>\n",
       "      <th>4</th>\n",
       "      <td>2012-09-08 23:16:36</td>\n",
       "      <td></td>\n",
       "      <td>36</td>\n",
       "      <td>1</td>\n",
       "      <td>329</td>\n",
       "      <td>0</td>\n",
       "      <td>Heredia, Costa Rica</td>\n",
       "      <td>Daniel Zuniga</td>\n",
       "      <td>danielzch15</td>\n",
       "      <td>None</td>\n",
       "    </tr>\n",
       "  </tbody>\n",
       "</table>\n",
       "</div>"
      ],
      "text/plain": [
       "           created_at                                        description  \\\n",
       "0 2013-11-10 03:12:18  La Ceiba 0101\\n🌴 Honduras 🇭🇳 504\\nCatracha \\n🙋...   \n",
       "1 2011-06-12 20:41:50                                                      \n",
       "2 2019-04-02 03:39:29                                                      \n",
       "3 2015-04-14 00:38:09                                                      \n",
       "4 2012-09-08 23:16:36                                                      \n",
       "\n",
       "   favorites_count  followers_count  friends_count  listed_count  \\\n",
       "0              231               79            333             0   \n",
       "1              109               31            150             1   \n",
       "2               61                1             67             0   \n",
       "3                8               31            462             0   \n",
       "4               36                1            329             0   \n",
       "\n",
       "              location              name      screen_name   url  \n",
       "0   Mi bbpin: 79639917  Michelle Mendoza       Mimendozas  None  \n",
       "1          El Salvador   Emanuel Moncada   EmanuelMoncada  None  \n",
       "2                                   Maby  MabyMazariegosf  None  \n",
       "3                         Adriana Mochez          AMochez  None  \n",
       "4  Heredia, Costa Rica     Daniel Zuniga      danielzch15  None  "
      ]
     },
     "execution_count": 46,
     "metadata": {},
     "output_type": "execute_result"
    }
   ],
   "source": [
    "df.head()"
   ]
  },
  {
   "cell_type": "code",
   "execution_count": 47,
   "metadata": {},
   "outputs": [],
   "source": [
    "df.to_csv('sample.csv', index=False)"
   ]
  },
  {
   "cell_type": "code",
   "execution_count": 65,
   "metadata": {},
   "outputs": [],
   "source": [
    "df['month'] = df['created_at'].apply(lambda x: str(x.year) + '-' + str(x.month).rjust(2, '0'))\n",
    "df['year'] = df['created_at'].apply(lambda x: str(x.year))"
   ]
  },
  {
   "cell_type": "code",
   "execution_count": 88,
   "metadata": {},
   "outputs": [],
   "source": [
    "by_month = df.groupby('month').count()['name'] / 12\n",
    "by_year = df.groupby('year').count()['name'] / 12"
   ]
  },
  {
   "cell_type": "code",
   "execution_count": 100,
   "metadata": {},
   "outputs": [
    {
     "data": {
      "image/png": "[encoded data removed]",
      "text/plain": [
       "<Figure size 1152x648 with 1 Axes>"
      ]
     },
     "metadata": {
      "needs_background": "light"
     },
     "output_type": "display_data"
    }
   ],
   "source": [
    "plt.figure(figsize=(16,9))\n",
    "by_year.plot(kind='bar', alpha=0.6)\n",
    "plt.title('Año de creación de las cuentas en Twitter de los seguidores de Nayib Bukele (a Jun. 2019)')\n",
    "plt.ylabel('Porcentaje')\n",
    "plt.xlabel('Muestra aleatoria: 1200 de 860 mil seguidores, IC 95%, error 0.03 (López, 2019)')\n",
    "plt.savefig('bukele_followers_created_at.png')"
   ]
  },
  {
   "cell_type": "code",
   "execution_count": 68,
   "metadata": {},
   "outputs": [
    {
     "data": {
      "text/plain": [
       "1200"
      ]
     },
     "execution_count": 68,
     "metadata": {},
     "output_type": "execute_result"
    }
   ],
   "source": [
    "by_year.sum()"
   ]
  },
  {
   "cell_type": "code",
   "execution_count": 101,
   "metadata": {},
   "outputs": [
    {
     "data": {
      "text/plain": [
       "year\n",
       "2008     0.166667\n",
       "2009     2.916667\n",
       "2010     6.250000\n",
       "2011     8.250000\n",
       "2012     4.916667\n",
       "2013     6.083333\n",
       "2014     6.833333\n",
       "2015     9.916667\n",
       "2016    10.750000\n",
       "2017    13.083333\n",
       "2018    11.250000\n",
       "2019    19.583333\n",
       "Name: name, dtype: float64"
      ]
     },
     "execution_count": 101,
     "metadata": {},
     "output_type": "execute_result"
    }
   ],
   "source": [
    "by_year"
   ]
  },
  {
   "cell_type": "code",
   "execution_count": 109,
   "metadata": {},
   "outputs": [
    {
     "data": {
      "image/png": "[encoded data removed]",
      "text/plain": [
       "<Figure size 1152x648 with 1 Axes>"
      ]
     },
     "metadata": {
      "needs_background": "light"
     },
     "output_type": "display_data"
    }
   ],
   "source": [
    "plt.figure(figsize=(16,9))\n",
    "by_month.plot(kind='area', color='green', alpha=0.9)\n",
    "plt.title('Creación de cuentas de seguidores de Nayib Bukele en Twitter por mes (a Jun. 2019)')\n",
    "plt.ylabel('Porcentaje')\n",
    "plt.xlabel('Muestra aleatoria: 1200 de 860 mil seguidores, IC 95%, error 0.03 (López, 2019)')\n",
    "plt.savefig('bukele_followers_created_at.png')"
   ]
  },
  {
   "cell_type": "code",
   "execution_count": 103,
   "metadata": {},
   "outputs": [
    {
     "data": {
      "text/plain": [
       "month\n",
       "2008-03     0.166667\n",
       "2009-01     0.083333\n",
       "2009-03     0.083333\n",
       "2009-04     0.166667\n",
       "2009-05     0.166667\n",
       "2009-06     0.666667\n",
       "2009-07     0.500000\n",
       "2009-08     0.250000\n",
       "2009-09     0.333333\n",
       "2009-10     0.333333\n",
       "2009-11     0.083333\n",
       "2009-12     0.250000\n",
       "2010-01     0.500000\n",
       "2010-02     0.416667\n",
       "2010-03     0.333333\n",
       "2010-04     0.833333\n",
       "2010-05     0.583333\n",
       "2010-06     0.833333\n",
       "2010-07     0.333333\n",
       "2010-08     0.333333\n",
       "2010-09     0.666667\n",
       "2010-10     0.416667\n",
       "2010-11     0.416667\n",
       "2010-12     0.583333\n",
       "2011-01     0.333333\n",
       "2011-02     0.500000\n",
       "2011-03     0.583333\n",
       "2011-04     0.833333\n",
       "2011-05     0.666667\n",
       "2011-06     1.166667\n",
       "             ...    \n",
       "2017-01     0.333333\n",
       "2017-02     1.333333\n",
       "2017-03     0.916667\n",
       "2017-04     1.250000\n",
       "2017-05     0.833333\n",
       "2017-06     1.000000\n",
       "2017-07     1.500000\n",
       "2017-08     1.166667\n",
       "2017-09     1.583333\n",
       "2017-10     1.333333\n",
       "2017-11     1.166667\n",
       "2017-12     0.666667\n",
       "2018-01     0.833333\n",
       "2018-02     0.750000\n",
       "2018-03     1.500000\n",
       "2018-04     1.083333\n",
       "2018-05     0.500000\n",
       "2018-06     1.000000\n",
       "2018-07     1.416667\n",
       "2018-08     0.916667\n",
       "2018-09     0.500000\n",
       "2018-10     1.000000\n",
       "2018-11     0.916667\n",
       "2018-12     0.833333\n",
       "2019-01     1.250000\n",
       "2019-02     2.583333\n",
       "2019-03     1.166667\n",
       "2019-04     0.916667\n",
       "2019-05     1.750000\n",
       "2019-06    11.916667\n",
       "Name: name, Length: 126, dtype: float64"
      ]
     },
     "execution_count": 103,
     "metadata": {},
     "output_type": "execute_result"
    }
   ],
   "source": [
    "by_month"
   ]
  },
  {
   "cell_type": "code",
   "execution_count": null,
   "metadata": {},
   "outputs": [],
   "source": []
  }
 ],
 "metadata": {
  "kernelspec": {
   "display_name": "Python 3",
   "language": "python",
   "name": "python3"
  },
  "language_info": {
   "codemirror_mode": {
    "name": "ipython",
    "version": 3
   },
   "file_extension": ".py",
   "mimetype": "text/x-python",
   "name": "python",
   "nbconvert_exporter": "python",
   "pygments_lexer": "ipython3",
   "version": "3.7.3"
  }
 },
 "nbformat": 4,
 "nbformat_minor": 2
}
